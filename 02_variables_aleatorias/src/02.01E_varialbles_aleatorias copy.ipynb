{
  "cells": [
    {
      "cell_type": "markdown",
      "metadata": {
        "id": "view-in-github",
        "colab_type": "text"
      },
      "source": [
        "<a href=\"https://colab.research.google.com/github/abelranni/modelos-de-simulacion/blob/main/02_variables_aleatorias/src/02.01E_varialbles_aleatorias%20copy.ipynb\" target=\"_parent\"><img src=\"https://colab.research.google.com/assets/colab-badge.svg\" alt=\"Open In Colab\"/></a>"
      ]
    },
    {
      "cell_type": "code",
      "execution_count": 1,
      "metadata": {
        "id": "W8KX4lZFF7eM"
      },
      "outputs": [],
      "source": [
        "import numpy as np\n",
        "import scipy.stats as stats\n",
        "import matplotlib.pyplot as plt\n",
        "import pandas as pd"
      ]
    },
    {
      "cell_type": "markdown",
      "metadata": {
        "id": "z8xql9vxF7eP"
      },
      "source": [
        "### Generar 10 números aleatorios de una distribución uniforme entre 0 y 1"
      ]
    },
    {
      "cell_type": "code",
      "execution_count": null,
      "metadata": {
        "id": "fj5NnnLyF7eR"
      },
      "outputs": [],
      "source": [
        "\n",
        "numeros_aleatorios = np.random.uniform(0, 1, 10)\n",
        "print(\"Números aleatorios de una distribución uniforme:\", numeros_aleatorios)"
      ]
    },
    {
      "cell_type": "code",
      "execution_count": null,
      "metadata": {
        "id": "JvEuEM6KF7eR"
      },
      "outputs": [],
      "source": [
        "numeros_aleatorios = np.random.uniform(0, 1, 1000)\n",
        "\n",
        "plt.hist(numeros_aleatorios, bins=20, density=True)\n",
        "plt.xlabel(\"Valores\")\n",
        "plt.ylabel(\"Densidad\")\n",
        "plt.title(\"Distribución uniforme\")\n",
        "plt.show()"
      ]
    },
    {
      "cell_type": "markdown",
      "metadata": {
        "id": "a3YGF5ZSF7eR"
      },
      "source": [
        "### Generar 10 números aleatorios de una distribución normal con media 0 y desviación estándar 1"
      ]
    },
    {
      "cell_type": "code",
      "execution_count": null,
      "metadata": {
        "id": "g92l-L7jF7eS"
      },
      "outputs": [],
      "source": [
        "numeros_aleatorios = np.random.normal(0, 1, 10)\n",
        "print(\"Números aleatorios de una distribución normal:\", numeros_aleatorios)"
      ]
    },
    {
      "cell_type": "code",
      "execution_count": null,
      "metadata": {
        "id": "TRsOKvGvF7eS"
      },
      "outputs": [],
      "source": [
        "mu = 0\n",
        "sigma = 1\n",
        "numeros_aleatorios = np.random.normal(mu, sigma, 1000)\n",
        "\n",
        "plt.hist(numeros_aleatorios, bins=30, density=True)\n",
        "plt.xlabel(\"Valores\")\n",
        "plt.ylabel(\"Densidad\")\n",
        "plt.title(\"Distribución normal\")\n",
        "plt.show()"
      ]
    },
    {
      "cell_type": "markdown",
      "metadata": {
        "id": "PCW67cV3F7eS"
      },
      "source": [
        "### Generar 10 números aleatorios de una distribución exponencial con escala 1"
      ]
    },
    {
      "cell_type": "code",
      "execution_count": null,
      "metadata": {
        "id": "zRLG9B6yF7eT"
      },
      "outputs": [],
      "source": [
        "numeros_aleatorios = np.random.exponential(1, 10)\n",
        "print(\"Números aleatorios de una distribución exponencial:\", numeros_aleatorios)"
      ]
    },
    {
      "cell_type": "code",
      "execution_count": null,
      "metadata": {
        "id": "a0NRRN0qF7eT"
      },
      "outputs": [],
      "source": [
        "escala = 1\n",
        "numeros_aleatorios = np.random.exponential(escala, 1000)\n",
        "\n",
        "plt.hist(numeros_aleatorios, bins=30, density=True)\n",
        "plt.xlabel(\"Valores\")\n",
        "plt.ylabel(\"Densidad\")\n",
        "plt.title(\"Distribución exponencial\")\n",
        "plt.show()"
      ]
    },
    {
      "cell_type": "markdown",
      "metadata": {
        "id": "0QhMFFM2F7eT"
      },
      "source": [
        "### Función de Distribución Acumulativa (CDF)\n",
        "- En este ejemplo, se define una función calcular_cdf_discreta que toma una lista de valores y sus respectivas probabilidades, y devuelve un diccionario con la CDF. \n",
        "- El ejemplo utiliza una variable aleatoria discreta que representa los resultados de lanzar un dado justo, con probabilidades iguales para cada resultado. \n",
        "- La función numpy.cumsum se utiliza para calcular la suma acumulativa de las probabilidades."
      ]
    },
    {
      "cell_type": "code",
      "execution_count": null,
      "metadata": {
        "id": "qo1pfWekF7eT"
      },
      "outputs": [],
      "source": [
        "\n",
        "def calcular_cdf_discreta(valores, probabilidades):\n",
        "    cdf = np.cumsum(probabilidades)\n",
        "    return {valores[i]: cdf[i] for i in range(len(valores))}\n",
        "\n",
        "# Ejemplo de variable aleatoria discreta con valores y probabilidades\n",
        "valores = [1, 2, 3, 4, 5, 6]\n",
        "probabilidades = [1/6, 1/6, 1/6, 1/6, 1/6, 1/6]\n",
        "\n",
        "# Calcular y mostrar la CDF\n",
        "cdf = calcular_cdf_discreta(valores, probabilidades)\n",
        "# print(\"CDF de la variable aleatoria discreta:\", cdf)\n",
        "\n",
        "# Crear un gráfico de barras para visualizar las probabilidades y la CDF\n",
        "fig, ax = plt.subplots()\n",
        "bar1 = ax.bar(valores, probabilidades, label='Probabilidades', alpha=0.5)\n",
        "bar2 = ax.bar(valores, [cdf[v] for v in valores],  label='CDF', alpha=0.5)\n",
        "ax.set_xlabel('Valores')\n",
        "ax.set_ylabel('Probabilidad / CDF')\n",
        "ax.set_title('Variable aleatoria discreta - Probabilidades y CDF')\n",
        "ax.legend()\n",
        "\n",
        "plt.show()\n",
        "\n",
        "# Crear y mostrar una tabla con los resultados\n",
        "tabla = pd.DataFrame({'Valor': valores, 'Probabilidad': probabilidades, 'CDF': [cdf[v] for v in valores]})\n",
        "print(tabla)\n"
      ]
    },
    {
      "cell_type": "markdown",
      "metadata": {
        "id": "IZvI2VY1F7eU"
      },
      "source": [
        "### Función de densidad de probabilidad (PDF) y función de distribución acumulativa (CDF) de una variable aleatoria continua\n",
        "\n",
        "Este ejemplo utiliza la distribución normal como una variable aleatoria continua. \n",
        "Se utilizan las siguientes bibliotecas:\n",
        "- scipy.stats para calcular la PDF y la CDF ( funciones stats.norm.pdf y stats.norm.cdf respectivamente)\n",
        "- Matplotlib para graficar la PDF y la CDF\n",
        "- Pandas para mostrar algunos valores seleccionados en una tabla.\n",
        "- numpy.linspace se utiliza para generar una serie de valores en el eje x. La función genera una secuencia de números igualmente espaciados en un intervalo especificado. Toma tres argumentos principales:\n",
        "    - start: El valor inicial del intervalo.\n",
        "    - stop: El valor final del intervalo.\n",
        "    - num: La cantidad de números igualmente espaciados que se generarán en el intervalo (por defecto es 50).\n",
        "\n",
        "\n",
        "Se pueden ajustar los parámetros de la distribución normal o utilizar otras distribuciones continuas de la biblioteca SciPy, como stats.expon para la distribución exponencial o stats.uniform para la distribución uniforme."
      ]
    },
    {
      "cell_type": "code",
      "execution_count": null,
      "metadata": {
        "id": "xBYN6rQOF7eU"
      },
      "outputs": [],
      "source": [
        "# Parámetros de la distribución normal\n",
        "mu = 0      # Media\n",
        "sigma = 1   # Desviación estándar\n",
        "\n",
        "# Crear una serie de valores en el eje x\n",
        "x = np.linspace(mu - 4 * sigma, mu + 4 * sigma, 100)\n",
        "\n",
        "# Calcular la PDF y la CDF para los valores en el eje x\n",
        "pdf_x = stats.norm.pdf(x, mu, sigma)\n",
        "cdf_x = stats.norm.cdf(x, mu, sigma)\n",
        "\n",
        "# Crear un gráfico para visualizar la PDF y la CDF\n",
        "fig, ax = plt.subplots()\n",
        "\n",
        "ax.plot(x, pdf_x, label='PDF', color='blue', alpha=0.5)\n",
        "ax.plot(x, cdf_x, label='CDF', color='orange', alpha=0.5)\n",
        "\n",
        "ax.set_xlabel('Valores')\n",
        "ax.set_ylabel('Probabilidad / CDF')\n",
        "ax.set_title('Variable aleatoria continua - PDF y CDF')\n",
        "ax.legend()\n",
        "\n",
        "plt.show()\n",
        "\n",
        "# Crear y mostrar una tabla con algunos valores seleccionados\n",
        "valores_seleccionados = [-3, -2, -1, 0, 1, 2, 3]\n",
        "pdf_seleccionados = stats.norm.pdf(valores_seleccionados, mu, sigma)\n",
        "cdf_seleccionados = stats.norm.cdf(valores_seleccionados, mu, sigma)\n",
        "\n",
        "tabla = pd.DataFrame({'Valor': valores_seleccionados, 'PDF': pdf_seleccionados, 'CDF': cdf_seleccionados})\n",
        "print(tabla)\n"
      ]
    }
  ],
  "metadata": {
    "kernelspec": {
      "display_name": "Python 3",
      "language": "python",
      "name": "python3"
    },
    "language_info": {
      "codemirror_mode": {
        "name": "ipython",
        "version": 3
      },
      "file_extension": ".py",
      "mimetype": "text/x-python",
      "name": "python",
      "nbconvert_exporter": "python",
      "pygments_lexer": "ipython3",
      "version": "3.9.13"
    },
    "orig_nbformat": 4,
    "colab": {
      "provenance": [],
      "include_colab_link": true
    }
  },
  "nbformat": 4,
  "nbformat_minor": 0
}