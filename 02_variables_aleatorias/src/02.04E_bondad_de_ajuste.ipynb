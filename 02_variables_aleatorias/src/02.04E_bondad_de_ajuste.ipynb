{
  "cells": [
    {
      "cell_type": "markdown",
      "metadata": {
        "id": "view-in-github",
        "colab_type": "text"
      },
      "source": [
        "<a href=\"https://colab.research.google.com/github/abelranni/modelos-de-simulacion/blob/main/02_variables_aleatorias/src/02.04E_bondad_de_ajuste.ipynb\" target=\"_parent\"><img src=\"https://colab.research.google.com/assets/colab-badge.svg\" alt=\"Open In Colab\"/></a>"
      ]
    },
    {
      "cell_type": "markdown",
      "metadata": {
        "id": "yzQf1VYF6edD"
      },
      "source": [
        "### Prueba Chi-cuadrada\n",
        "Se trata de una prueba de hipótesis a partir de datos, basada en el cálculo de un valor \n",
        "llamado estadístico de prueba, al cual suele comparársele con un valor conocido como \n",
        "valor crítico, mismo que se obtiene, generalmente, de tablas estadísticas. \n",
        "El procedimiento general de la prueba es:\n",
        "\n",
        "1. Obtener al menos 30 datos de la variable aleatoria a analizar.\n",
        "2. Calcular la media y varianza de los datos.\n",
        "3. Crear un histograma de $m = \\sqrt n$ intervalos, y obtener la frecuencia observada en \n",
        "cada intervalo $O_i$.\n",
        "4. Establecer explícitamente la hipótesis nula, mediante una distribución de probabilidad que se ajuste a la forma del histograma.\n",
        "5. Calcular la frecuencia esperada, $E_i$, a partir de la función de probabilidad propuesta.\n",
        "6. Calcular el estadístico de prueba:\n",
        "   $$\\chi^2_{prueba} = \\sum_{i=1}^{k} \\frac{(O_i - E_i)^2}{E_i}$$\n",
        "7. Definir el nivel de significancia de la prueba, $\\alpha$, y determinar el valor crítico de \n",
        "la prueba, $\\chi_{\\alpha, m-k-1}^2$ ($k$ es el número de parámetros estimados en la distribución \n",
        "propuesta).\n",
        "1. Comparar el estadístico de prueba con el valor crítico. Si el estadístico de prueba \n",
        "es menor que el valor crítico no se puede rechazar la hipótesis nula.\n"
      ]
    },
    {
      "cell_type": "code",
      "execution_count": null,
      "metadata": {
        "id": "dMj8P_Vp6edH"
      },
      "outputs": [],
      "source": [
        "import numpy as np\n",
        "import scipy.stats as stats\n",
        "import matplotlib.pyplot as plt\n",
        "import pandas as pd"
      ]
    },
    {
      "cell_type": "markdown",
      "metadata": {
        "id": "zk9xAb9d6edI"
      },
      "source": [
        "### Ejercicio\n",
        "Estos son los datos del número de automóviles que entran a una gasolinera cada hora:\n",
        "\n",
        "| 14 |  7 | 13 | 16 | 16 | 13 | 14 | 17 | 15 | 16 |\n",
        "|----|----|----|----|----|----|----|----|----|----|\n",
        "| 13 | 15 | 10 | 15 | 16 | 14 | 12 | 17 | 14 | 12 |\n",
        "| 13 | 20 |  8 | 17 | 19 | 11 | 12 | 17 |  9 | 18 |\n",
        "| 20 | 10 | 18 | 15 | 13 | 16 | 24 | 18 | 16 | 18 |\n",
        "| 12 | 14 | 20 | 15 | 10 | 13 | 21 | 23 | 15 | 18 |\n",
        "\t\n",
        "Determinar la distribución de probabilidad con un nivel de significancia $\\alpha$ de 5%.\n",
        "\n",
        "El histograma de los $n = 50$ datos, que considera \n",
        "- $m = 11$ intervalos, \n",
        "- la media muestral $\\bar{x} = 15.04$\n",
        "- la varianza muestral $s^2 = 13.14$, \n",
        "\n",
        "permite establecer la siguiente hipótesis:\n",
        "\n",
        "$H_0$: Poisson ($\\lambda = 15$) automóviles/hora\n",
        "\n",
        "$H_1$: Otra distribución\n"
      ]
    },
    {
      "cell_type": "markdown",
      "metadata": {
        "id": "ZVluskzr6edJ"
      },
      "source": [
        "Para realizar la prueba de hipótesis, primero necesitamos calcular las frecuencias esperadas en cada intervalo para la distribución de Poisson propuesta. Para ello, utilizaremos la fórmula de la función de masa de probabilidad de Poisson:\n",
        "\n",
        "$$P(k) = \\frac{e^{-\\lambda} \\lambda^k}{k!}$$\n",
        "\n",
        "Donde $\\lambda = 15$ es la media y $k$ es el número de automóviles por hora en cada intervalo.\n"
      ]
    }
  ],
  "metadata": {
    "kernelspec": {
      "display_name": "Python 3",
      "language": "python",
      "name": "python3"
    },
    "language_info": {
      "codemirror_mode": {
        "name": "ipython",
        "version": 3
      },
      "file_extension": ".py",
      "mimetype": "text/x-python",
      "name": "python",
      "nbconvert_exporter": "python",
      "pygments_lexer": "ipython3",
      "version": "3.9.13"
    },
    "orig_nbformat": 4,
    "colab": {
      "provenance": [],
      "include_colab_link": true
    }
  },
  "nbformat": 4,
  "nbformat_minor": 0
}