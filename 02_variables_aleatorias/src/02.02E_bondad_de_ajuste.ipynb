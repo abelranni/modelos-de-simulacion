{
  "cells": [
    {
      "cell_type": "markdown",
      "metadata": {
        "id": "view-in-github",
        "colab_type": "text"
      },
      "source": [
        "<a href=\"https://colab.research.google.com/github/abelranni/modelos-de-simulacion/blob/main/02_variables_aleatorias/src/02.02E_bondad_de_ajuste.ipynb\" target=\"_parent\"><img src=\"https://colab.research.google.com/assets/colab-badge.svg\" alt=\"Open In Colab\"/></a>"
      ]
    },
    {
      "cell_type": "code",
      "execution_count": null,
      "metadata": {
        "id": "RdwjIj7_HD5D"
      },
      "outputs": [],
      "source": [
        "import numpy as np\n",
        "import scipy.stats as stats\n",
        "import matplotlib.pyplot as plt\n",
        "import pandas as pd"
      ]
    },
    {
      "cell_type": "markdown",
      "metadata": {
        "id": "fDIdetq-HD5I"
      },
      "source": [
        "### Ejemplo de pueba de bondad de ajuste\n",
        "Supongamos que tenemos los siguientes datos de 50 estudiantes y sus calificaciones en un examen"
      ]
    },
    {
      "cell_type": "code",
      "execution_count": null,
      "metadata": {
        "id": "aYwhn6Y7HD5K"
      },
      "outputs": [],
      "source": [
        "datos = [76, 81, 88, 85, 92, 88, 78, 84, 90, 85,         \n",
        "         88, 95, 89, 94, 92, 87, 84, 82, 81, 97,         \n",
        "         83, 89, 87, 91, 92, 90, 77, 85, 84, 93,         \n",
        "         79, 90, 92, 84, 89, 91, 83, 86, 88, 91,         \n",
        "         82, 87, 84, 89, 91, 95, 90, 86, 90, 85]"
      ]
    },
    {
      "cell_type": "markdown",
      "metadata": {
        "id": "-ClpHCOaHD5L"
      },
      "source": [
        "Queremos determinar si estos datos se ajustan a una distribución normal. \n",
        "A continuación, se describen los pasos para aplicar la prueba chi-cuadrado:\n",
        "\n",
        "- Agrupar los datos observados en intervalos o categorías. \n",
        "- Por simplicidad, utilizaremos 5 intervalos de igual tamaño. \n",
        "- Se puede utilizar la función numpy.histogram para agrupar los datos y contar las frecuencias observadas en cada intervalo."
      ]
    },
    {
      "cell_type": "code",
      "execution_count": null,
      "metadata": {
        "id": "mNvqJXwnHD5M"
      },
      "outputs": [],
      "source": [
        "# frecuencias_observadas, bordes_intervalos = np.histogram(datos, bins=5)\n",
        "frecuencias_observadas, bordes_intervalos, _ = plt.hist(datos, bins=5, alpha=0.7, label='Frecuencias observadas')\n",
        "plt.xlabel('Calificaciones')\n",
        "plt.ylabel('Frecuencia')\n",
        "plt.title('Histograma de calificaciones de estudiantes')\n",
        "plt.legend()\n",
        "plt.show()\n"
      ]
    },
    {
      "cell_type": "markdown",
      "metadata": {
        "id": "6TdT1HS6HD5N"
      },
      "source": [
        "- Calcular las frecuencias esperadas para cada intervalo utilizando la distribución de probabilidad propuesta. \n",
        "- En este caso, utilizaremos la distribución normal con la media y la desviación estándar estimadas a partir de los datos. \n",
        "- La función stats.norm.cdf de SciPy se puede utilizar para calcular la CDF en los bordes de los intervalos y, posteriormente, calcular las frecuencias esperadas."
      ]
    },
    {
      "cell_type": "code",
      "execution_count": null,
      "metadata": {
        "id": "c2ex-zseHD5O"
      },
      "outputs": [],
      "source": [
        "mu = np.mean(datos)\n",
        "sigma = np.std(datos)\n",
        "\n",
        "cdf_bordes = stats.norm.cdf(bordes_intervalos, mu, sigma)\n",
        "frecuencias_esperadas = np.diff(cdf_bordes) * len(datos)\n",
        "\n",
        "# Crear el gráfico de barras para las frecuencias observadas y esperadas\n",
        "etiquetas_intervalos = [(bordes_intervalos[i], bordes_intervalos[i + 1]) for i in range(len(bordes_intervalos) - 1)]\n",
        "\n",
        "fig, ax = plt.subplots()\n",
        "ancho_barra = 0.35\n",
        "\n",
        "# Barras para las frecuencias observadas\n",
        "posicion_barras_obs = np.arange(len(etiquetas_intervalos))\n",
        "ax.bar(posicion_barras_obs - ancho_barra / 2, frecuencias_observadas, ancho_barra, label='Observadas', alpha=0.7)\n",
        "\n",
        "# Barras para las frecuencias esperadas\n",
        "posicion_barras_esp = np.arange(len(etiquetas_intervalos))\n",
        "ax.bar(posicion_barras_esp + ancho_barra / 2, frecuencias_esperadas, ancho_barra, label='Esperadas', alpha=0.7)\n",
        "\n",
        "ax.set_xlabel('Intervalos')\n",
        "ax.set_ylabel('Frecuencia')\n",
        "ax.set_title('Frecuencias observadas vs. esperadas')\n",
        "ax.set_xticks(posicion_barras_obs)\n",
        "ax.set_xticklabels([f'[{a:.1f}, {b:.1f})' for a, b in etiquetas_intervalos], rotation=45)\n",
        "ax.legend()\n",
        "\n",
        "plt.show()\n"
      ]
    },
    {
      "cell_type": "markdown",
      "metadata": {
        "id": "6vKhIA-XHD5P"
      },
      "source": [
        "-Calcular la estadística chi-cuadrado: $$ \\chi^2 = \\sum \\frac{(O - E)^2}{E} $$  "
      ]
    },
    {
      "cell_type": "code",
      "execution_count": null,
      "metadata": {
        "id": "0V_dMYTMHD5P"
      },
      "outputs": [],
      "source": [
        "chi_cuadrado = np.sum((frecuencias_observadas - frecuencias_esperadas) ** 2 / frecuencias_esperadas)"
      ]
    },
    {
      "cell_type": "markdown",
      "metadata": {
        "id": "AJMFvxE7HD5Q"
      },
      "source": [
        "- Determinar el valor crítico de chi-cuadrado para un nivel de significancia dado (por ejemplo, 0.05) y los grados de libertad (número de intervalos menos 1)."
      ]
    },
    {
      "cell_type": "code",
      "execution_count": null,
      "metadata": {
        "id": "f8lyKXqUHD5Q"
      },
      "outputs": [],
      "source": [
        "alpha = 0.05\n",
        "grados_libertad = len(frecuencias_observadas) - 1\n",
        "valor_critico = stats.chi2.ppf(1 - alpha, grados_libertad)"
      ]
    },
    {
      "cell_type": "markdown",
      "metadata": {
        "id": "pKXt9NKyHD5R"
      },
      "source": [
        "- Comparar la estadística chi-cuadrado calculada con el valor crítico. \n",
        "- Si la estadística chi-cuadrado es mayor que el valor crítico, rechazar la hipótesis nula y concluir que la distribución propuesta no se ajusta adecuadamente a los datos observados."
      ]
    },
    {
      "cell_type": "code",
      "execution_count": null,
      "metadata": {
        "id": "Rj73k1CNHD5R"
      },
      "outputs": [],
      "source": [
        "if chi_cuadrado > valor_critico:\n",
        "    print(\"Rechazar la hipótesis nula. La distribución normal no se ajusta a los datos\")\n",
        "else:\n",
        "    print(\"No se puede rechazar la hipótesis nula. La distribución normal se ajusta a los datos\")"
      ]
    }
  ],
  "metadata": {
    "kernelspec": {
      "display_name": "Python 3",
      "language": "python",
      "name": "python3"
    },
    "language_info": {
      "codemirror_mode": {
        "name": "ipython",
        "version": 3
      },
      "file_extension": ".py",
      "mimetype": "text/x-python",
      "name": "python",
      "nbconvert_exporter": "python",
      "pygments_lexer": "ipython3",
      "version": "3.9.13"
    },
    "orig_nbformat": 4,
    "colab": {
      "provenance": [],
      "include_colab_link": true
    }
  },
  "nbformat": 4,
  "nbformat_minor": 0
}